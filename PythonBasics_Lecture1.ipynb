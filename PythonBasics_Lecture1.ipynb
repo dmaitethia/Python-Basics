{
 "cells": [
  {
   "cell_type": "markdown",
   "metadata": {},
   "source": [
    "# Lecture 1: PYTHON BASICS\n",
    "## What we will learn in this session<br>\n",
    "1. print and input functions <br>\n",
    "2. Python as a calculator - arithmetic operators<br>\n",
    "3. variables<br>\n",
    "4. comparison operator and conditional statements<br>\n",
    "5. loops - for loop and while loop<br>\n",
    "6. python data types - Lists and dictonaries<br>\n",
    "7. user defined functions<br>\n",
    "\n"
   ]
  },
  {
   "cell_type": "markdown",
   "metadata": {},
   "source": [
    "### print function\n",
    "To display some text on a computer screen using python use the print function\n",
    "Example:<br>\n",
    "Let us dispay the wold \"hello world\" on the computer screen.  \n",
    "\n",
    "<code>\n",
    "    print(\"Hello World\")\n",
    "</code>\n",
    "\n"
   ]
  },
  {
   "cell_type": "code",
   "execution_count": null,
   "metadata": {},
   "outputs": [],
   "source": []
  },
  {
   "cell_type": "markdown",
   "metadata": {},
   "source": [
    "Try this code out!\n",
    "<code>\n",
    "    name = \"John Kamau\"\n",
    "    print(\"Hello \",name)\n",
    "</code>"
   ]
  },
  {
   "cell_type": "code",
   "execution_count": null,
   "metadata": {},
   "outputs": [],
   "source": []
  },
  {
   "cell_type": "code",
   "execution_count": 13,
   "metadata": {},
   "outputs": [
    {
     "name": "stdout",
     "output_type": "stream",
     "text": [
      "------------------------------------\n",
      "My name is Daniel\n",
      "------------------------------------\n",
      "I teach Physics\n",
      "------------------------------------\n"
     ]
    }
   ],
   "source": [
    "#new line and tab characters\n",
    "\n",
    "print(\"------------------------------------\\nMy name is Daniel\\n------------------------------------\\nI teach Physics\\n------------------------------------\")\n"
   ]
  },
  {
   "cell_type": "markdown",
   "metadata": {},
   "source": [
    "## input function\n",
    "\n",
    "If you want to prompt the user to key in some data from the keyboard, you use the input function\n",
    "\n",
    "## Example \n",
    "Let us write a code to ask the user to enter his name and print it on the screen \n",
    "<code>\n",
    "    name = input(\"Enter Your name: \")\n",
    "    print(\"Hello \", name)\n",
    "</code>\n",
    "    "
   ]
  },
  {
   "cell_type": "code",
   "execution_count": null,
   "metadata": {},
   "outputs": [],
   "source": []
  },
  {
   "cell_type": "code",
   "execution_count": null,
   "metadata": {},
   "outputs": [],
   "source": []
  },
  {
   "cell_type": "markdown",
   "metadata": {},
   "source": [
    "## Python as a Calculator - Arthmetic operators\n",
    "\n",
    "<code> + </code>  addition operator<br>\n",
    "<code> -  </code> subtration operator<br>\n",
    "<code> * </code> multiplication operator<br>\n",
    "<code> / </code> division operator<br>\n",
    "<code> // </code> integer division operator<br>\n",
    "<code> % </code> modulo or reminder operator"
   ]
  },
  {
   "cell_type": "code",
   "execution_count": 16,
   "metadata": {},
   "outputs": [
    {
     "name": "stdout",
     "output_type": "stream",
     "text": [
      "16.666666666666668\n"
     ]
    }
   ],
   "source": [
    "# Try out some arithmetic operations here\n",
    "print(4*3+5-1/3)"
   ]
  },
  {
   "cell_type": "markdown",
   "metadata": {},
   "source": [
    "### Variables \n",
    "- A variable can be viewed as a container for storing values in a computer memory. The value stored can change when the program is running.\n",
    "#### Example 1.1:\n",
    "<code>\n",
    "num1 = 93\n",
    "    \n",
    "</code>\n",
    "num1 is a variable that is used to store a value of 93. this value can change during the execution of the program. You can name \n",
    "you variables however you want except you should not use python reserved words such as print, save, sum etc. A variable name should start with a letter rather than a number or symbol and should have no spaces.\n",
    "\n",
    "#### Example 1.2:\n",
    "Leters create two variables and assign them some scalar values\n",
    "<code>\n",
    "num1 = 20\n",
    "num2 = 30\n",
    "\n",
    "</code>\n",
    "Now let us perform addition, subtraction, multiplication, division, whole number dision and modulo operations.\n",
    "For each operation we will assign the result to a different variable; answer1, answer2,...\n",
    "<code>\n",
    "answer1 = num1 + number2        #adding num1 and num2 and storing the result in a variable named answer1\n",
    "\n",
    "</code>\n",
    "To display the value held in the variable named answer1 we can us the the python inbuilt function called print. i.e.,\n",
    "<code>\n",
    "print(answer1)                  #displaying the value of answer1\n",
    "</code>\n",
    "Similarly we can perform other arithmentic operation in the same fashion:\n",
    "<code>\n",
    "answer2 = num1 - number2        #subtracting num1 and num2 \n",
    "print(answer2)\n",
    "\n",
    "answer3 = num1 * num2           #multiplying num1 and num2\n",
    "print(answer3)\n",
    "\n",
    "answer4 = num2/num1             #dividing num2 by num1\n",
    "print(answer4)\n",
    "\n",
    "answer5 = num2//num1            #whole number division\n",
    "print(answer5)\n",
    "\n",
    "answer6 = num2 % num1           #result is the reminder of the whole number division\n",
    "print(answer6)\n",
    "\n",
    "</code>\n",
    "You can try to execute the code given above in the the cells of the jupter notebook below. Note that text appearing \n",
    "after the # symbol is referred to as comments and are not executed. The are meant to explain the logic of the code.\n",
    "It is good programming practice to include comments in your code to explain its logic.\n",
    "\n",
    "\n",
    "\n",
    "\n"
   ]
  },
  {
   "cell_type": "code",
   "execution_count": 1,
   "metadata": {},
   "outputs": [
    {
     "name": "stdout",
     "output_type": "stream",
     "text": [
      "1\n"
     ]
    }
   ],
   "source": [
    "num1 = 20\n",
    "num2 = 30\n",
    "answer6 = num2 // num1\n",
    "print(answer6)"
   ]
  },
  {
   "cell_type": "markdown",
   "metadata": {},
   "source": [
    "### String variables\n",
    "Strings are arrays of alphabetical characters.\n",
    "When declaring string variable the characters should be enclosed in either single or double qoutation marks\n",
    "### Examples 1.3\n",
    "Let us define the two names of an idividual and display each one of the using the print function\n",
    "<code>\n",
    "first_name = \"Joseph\"\n",
    "surname = \"Kang'ethe\"\n",
    "\n",
    "\n",
    "print(\"The First name is: \")\n",
    "print(first_name)\n",
    "print(\"The Surname is: \",surname)\n",
    "</code>\n",
    "\n",
    "### Example 1.4\n",
    "The following statement prints the first name in line one and the surname in line two\n",
    "\n",
    "<code>\n",
    "print(\"First name: \",first_name +\"\\n\" +\"Surname: \",surname)\n",
    "</code>\n"
   ]
  },
  {
   "cell_type": "code",
   "execution_count": null,
   "metadata": {},
   "outputs": [],
   "source": [
    "\n",
    "\n",
    "\n"
   ]
  },
  {
   "cell_type": "markdown",
   "metadata": {},
   "source": [
    "### input function:\n",
    "input function is python built-in function that displays some user specified text and prompt the user to input a value which an be assigned to a variable\n",
    "\n",
    "#### Example: 1.5\n",
    "Let use use the input function to prompt a user to enter his or her age then the program will display it on the screen\n",
    "After entering the value you should press the return (Enter) key let the program continue with execution\n",
    "\n",
    "<code>\n",
    "age = input(\"Please Enter your age\")\n",
    "print(\"Your age is\", age)\n",
    "</code>\n",
    "\n",
    "the value you enter is assigned to a variable named age and is displayed by the print function\n",
    "\n",
    "If the value being entered is a numerical value to be used in subsquent calculations, the eval function should be used to convert the entered value to a number as show below\n",
    "\n",
    "### Example 1.6\n",
    "<code>\n",
    "age = eval(input(\"Please Enter your age\"))\n",
    "double_age = age*2\n",
    "print(\"Your age is\", double_age)\n",
    "</code>"
   ]
  },
  {
   "cell_type": "code",
   "execution_count": null,
   "metadata": {},
   "outputs": [],
   "source": []
  },
  {
   "cell_type": "code",
   "execution_count": null,
   "metadata": {},
   "outputs": [],
   "source": []
  },
  {
   "cell_type": "markdown",
   "metadata": {},
   "source": [
    "### Exercise:\n",
    "1. Ask the user's first name and display the output message \n",
    "\n",
    "<code>\n",
    "Hello [First Name]\n",
    "</code>\n"
   ]
  },
  {
   "cell_type": "code",
   "execution_count": null,
   "metadata": {},
   "outputs": [],
   "source": []
  },
  {
   "cell_type": "markdown",
   "metadata": {},
   "source": [
    "2. Ask the user to enter two numbers. Add them together and display the answer as \n",
    "\n",
    "<code> The total is \n",
    "[Answer]</code>\n"
   ]
  },
  {
   "cell_type": "code",
   "execution_count": null,
   "metadata": {},
   "outputs": [],
   "source": []
  },
  {
   "cell_type": "markdown",
   "metadata": {},
   "source": [
    "3. Ask the user to enter three numbers. Add together the first two numbers and multiply this total by the third number.\n",
    "Display the answer as:\n",
    "\n",
    "<code> The answer is [answer] </code>\n",
    "    "
   ]
  },
  {
   "cell_type": "markdown",
   "metadata": {},
   "source": [
    "4. Write a program that will ask for the number of days and then will show how many hours, minutes and seconds are in that number of days"
   ]
  },
  {
   "cell_type": "code",
   "execution_count": null,
   "metadata": {},
   "outputs": [],
   "source": []
  },
  {
   "attachments": {
    "Ifstatement.png": {
     "image/png": "[encoded data removed]"
    }
   },
   "cell_type": "markdown",
   "metadata": {},
   "source": [
    "### if Else Statement\n",
    "-If statement allows your program to make decisions\n",
    "\n",
    "![Ifstatement.png](attachment:Ifstatement.png)\n",
    "\n",
    "Below is how the if statement for the flow chart would look like in python\n",
    "\n",
    "<code>\n",
    "mark = eval(input(\"Enter Student Mark\"))\n",
    "if mark > 50:\n",
    "    grade = \"A\"\n",
    "else:\n",
    "    grade = \"F\"\n",
    "print(\"The grade of the student is: \",grade)</code>"
   ]
  },
  {
   "cell_type": "markdown",
   "metadata": {},
   "source": []
  },
  {
   "cell_type": "code",
   "execution_count": null,
   "metadata": {},
   "outputs": [],
   "source": []
  },
  {
   "attachments": {
    "for%20loop.png": {
     "image/png": "[encoded data removed]"
    }
   },
   "cell_type": "markdown",
   "metadata": {},
   "source": [
    "### For Loop\n",
    "-For loop allows a program to repeat code a set number of times. \n",
    "It is sometimes called the counting loop because because you know the number of times the loop will repeat before stopping\n",
    "The flow chart for for loop is show in the figure below:\n",
    "![for%20loop.png](attachment:for%20loop.png)\n",
    "The Example that follows uses for loop to print numbers 0 to 10\n",
    "\n",
    "#### Example 1.7\n",
    "Using for loop to print consecutive numbers from 0 to 10\n",
    "<code>\n",
    "for i in range(0,11):\n",
    "    print(i) </code>\n",
    "    \n",
    "Note: \n",
    "- when it gets to 11 the loop would stop so 11 is not printed <br>\n",
    "- Remember to ident the lines of code within the for loop\n",
    "      \n",
    "      "
   ]
  },
  {
   "cell_type": "markdown",
   "metadata": {},
   "source": [
    "Exercise:\n",
    "1. Ask the user to enter a number between 1 and 12 and then display the multiplication table for that number\n",
    "2. Ask a user to enter a number below 50 and then count down from 50 to that number, making sure you show the number they entered in the the output"
   ]
  },
  {
   "cell_type": "markdown",
   "metadata": {},
   "source": [
    "#### While loop:\n",
    "A while loop allows code to be repeated an unknown number of times as long as the condition is being met. This may be 100 times or just once or never.In a while loop the condition is checked before the code is executed which could mean it could skip the while loop altongether if the condition is met.\n",
    "\n",
    "### Example:\n",
    "The program below will create a variable called total and store the value as 0. It will ask the user to enter a number and will add it to the total. It will keep repeating this as long as the total is still less than 100. When the total equals 100 or more, it will stop running the loop and display the total.\n",
    "\n",
    "<code>\n",
    "total = 0\n",
    "while total < 100:\n",
    "    num = int(input(\"Enter a number: \"))\n",
    "    total = total + num\n",
    "    print(\"The total is\", total)\n",
    "   </code>"
   ]
  },
  {
   "cell_type": "markdown",
   "metadata": {},
   "source": [
    "### Random Numbers\n",
    "Python can generate psedo-random numbers. \n",
    "Ther are two types of random values we will be looking at:\n",
    "1. Random numbers within a specified range\n",
    "2. A random choice from a range of items that are input\n",
    "\n",
    "To use these two options, you will need to import the random library. You do this by typing import random at the start of your program.\n",
    "\n",
    "#### Example 1.9\n",
    "the code below generates a random number between 0 qnd 1 and stores it in a variable called \"num\". If you want to obtain a larger number you can multiply it by a constant number as shown.\n",
    "\n",
    "<code>\n",
    "import random\n",
    "num = random.random()\n",
    "num = num*100\n",
    "print(num)\n",
    "</code>\n",
    "\n",
    "#### Example 1.10\n",
    "The code below generate a random intenger between 0 and 1000\n",
    "\n",
    "<code>\n",
    "num = random.randint(0,1000)\n",
    "print(num)\n",
    "</code>\n",
    "\n",
    "#### Example 1.11\n",
    "The code below randomly select one of the three options provided\n",
    "<code>\n",
    "colour = random.choice([\"red\", \"black\", \"green\"])\n",
    "print(colour)\n",
    "</code>\n",
    "\n"
   ]
  },
  {
   "cell_type": "markdown",
   "metadata": {},
   "source": [
    "### Exercise 1:\n",
    "1. write a Program that generates a random integer between 0 and 10. The code then asks the user to \n",
    "enter a guess of the generated number. If the value entered is equal to the generated number the code\n",
    "display \"Congrats, the geuss is correct\" and terminates. If the value entered is less than the actual \n",
    "value, the code should tell the user \"guess less than the actual value\" or if the value provide by \n",
    "the user is greater than the actual value the the code should display \"guess greater than the actual \n",
    "value\". The program should then ask the user whether he/she wishes to continue guessing the value. \n",
    "If the user enters \"Y\", the process should repeat otherwise the program should terminate.\n",
    "\n",
    "\n",
    "2. Make a maths quiz that asks five questions by randomly generating two whole numbers to make the \n",
    "question (e.g. [num1]+[num2]). Ask the user to enter the answer. If they got it right add a point \n",
    "to their score. At the end of the quiz, tell them how many they got correct out of five."
   ]
  },
  {
   "cell_type": "code",
   "execution_count": 2,
   "metadata": {},
   "outputs": [],
   "source": [
    "#pip install pylatex"
   ]
  },
  {
   "cell_type": "code",
   "execution_count": 3,
   "metadata": {},
   "outputs": [],
   "source": [
    "#pip install --upgrade pip"
   ]
  },
  {
   "cell_type": "code",
   "execution_count": 1,
   "metadata": {},
   "outputs": [
    {
     "ename": "SyntaxError",
     "evalue": "invalid syntax (<ipython-input-1-e7f95a72f183>, line 1)",
     "output_type": "error",
     "traceback": [
      "\u001b[1;36m  File \u001b[1;32m\"<ipython-input-1-e7f95a72f183>\"\u001b[1;36m, line \u001b[1;32m1\u001b[0m\n\u001b[1;33m    jupyter nbconvert --to pdf PythonBasics_Lecture1.ipynb\u001b[0m\n\u001b[1;37m                    ^\u001b[0m\n\u001b[1;31mSyntaxError\u001b[0m\u001b[1;31m:\u001b[0m invalid syntax\n"
     ]
    }
   ],
   "source": [
    "jupyter nbconvert --to pdf PythonBasics_Lecture1.ipynb"
   ]
  },
  {
   "cell_type": "code",
   "execution_count": null,
   "metadata": {},
   "outputs": [],
   "source": []
  },
  {
   "cell_type": "code",
   "execution_count": null,
   "metadata": {},
   "outputs": [],
   "source": []
  }
 ],
 "metadata": {
  "kernelspec": {
   "display_name": "Python 3",
   "language": "python",
   "name": "python3"
  },
  "language_info": {
   "codemirror_mode": {
    "name": "ipython",
    "version": 3
   },
   "file_extension": ".py",
   "mimetype": "text/x-python",
   "name": "python",
   "nbconvert_exporter": "python",
   "pygments_lexer": "ipython3",
   "version": "3.7.4"
  }
 },
 "nbformat": 4,
 "nbformat_minor": 2
}
